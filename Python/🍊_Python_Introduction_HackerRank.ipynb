{
  "cells": [
    {
      "cell_type": "markdown",
      "metadata": {
        "id": "TiqWyJFgTmoU"
      },
      "source": [
        "## 🥑 Say \"Hello, World!\" With Python\n",
        "\n"
      ]
    },
    {
      "cell_type": "markdown",
      "metadata": {
        "id": "zG9Rjg_aSx0j"
      },
      "source": [
        "Here is a sample line of code that can be executed in Python:\n",
        "\n",
        "```python\n",
        "print(\"Hello, World!\")\n",
        "```\n",
        "\n",
        "You can just as easily store a string as a variable and then print it to stdout:\n",
        "\n",
        "```python\n",
        "my_string = \"Hello, World!\"\n",
        "print(my_string)\n",
        "```\n",
        "\n",
        "The above code will print Hello, World! on your screen. Try it yourself in the editor below!\n",
        "\n",
        "**Input Format**\n",
        "\n",
        "You do not need to read any input in this challenge.\n",
        "\n",
        "**Output Format**\n",
        "\n",
        "Print Hello, World! to stdout.\n",
        "\n",
        "**Sample Output 0**\n",
        "```python\n",
        "Hello, World!\n",
        "```\n"
      ]
    },
    {
      "cell_type": "code",
      "execution_count": 1,
      "metadata": {
        "colab": {
          "base_uri": "https://localhost:8080/"
        },
        "id": "6cf1Fg7ITYwm",
        "outputId": "68eaa11a-8980-436a-e064-9c42066139b0"
      },
      "outputs": [
        {
          "output_type": "stream",
          "name": "stdout",
          "text": [
            "Hello, World!\n"
          ]
        }
      ],
      "source": [
        "print(\"Hello, World!\")"
      ]
    },
    {
      "cell_type": "markdown",
      "metadata": {
        "id": "mQWWLfV3YpxP"
      },
      "source": [
        "## 🥑 Arithmetic Operators"
      ]
    },
    {
      "cell_type": "markdown",
      "metadata": {
        "id": "Dwo33yVHZBkU"
      },
      "source": [
        "**Task**\n",
        "\n",
        "The provided code stub reads two integers from STDIN, ***a*** and ***b***. Add code to print three lines where:\n",
        "1. The first line contains the sum of the two numbers.\n",
        "2. The second line contains the difference of the two numbers (first - second).\n",
        "3. The third line contains the product of the two numbers.\n",
        "\n",
        "**Example**\n",
        "\n",
        "$a = 3$\n",
        "\n",
        "$b = 5$\n",
        "\n",
        "Print the following:\n",
        "```\n",
        "8\n",
        "-2\n",
        "15\n",
        "```\n",
        "**Input Format**\n",
        "\n",
        "The first line contains the first integer, ***a***.\n",
        "\n",
        "The second line contains the second integer, ***b***.\n",
        "\n",
        "**Constraints**\n",
        "\n",
        "$1 <= a <= 10^{10}$\n",
        "\n",
        "$1 <= a <= 10^{10}$\n",
        "\n",
        "**Output Format**\n",
        "\n",
        "Print the three lines as explained above.\n",
        "\n",
        "**Sample Input 0**\n",
        "```\n",
        "3\n",
        "2\n",
        "```\n",
        "**Sample Output 0**\n",
        "```\n",
        "5\n",
        "1\n",
        "6\n",
        "```\n",
        "**Explanation 0**\n",
        "\n",
        "$3 + 2 => 5$\n",
        "\n",
        "$3 - 2 => 1$\n",
        "\n",
        "$3 * 2 => 6$\n",
        "\n",
        "\n",
        "\n",
        "\n"
      ]
    },
    {
      "cell_type": "code",
      "execution_count": 2,
      "metadata": {
        "colab": {
          "base_uri": "https://localhost:8080/"
        },
        "id": "7R9l4taLbWba",
        "outputId": "ec2f3598-8268-4772-8131-c772146dc224"
      },
      "outputs": [
        {
          "output_type": "stream",
          "name": "stdout",
          "text": [
            "3\n",
            "2\n",
            "5\n",
            "1\n",
            "6\n"
          ]
        }
      ],
      "source": [
        "a = int(input())\n",
        "b = int(input())\n",
        "print (a + b)\n",
        "print (a - b)\n",
        "print (a*b)\n",
        "#print((a + b), (a - b), (a * b), sep='\\n')"
      ]
    },
    {
      "cell_type": "markdown",
      "metadata": {
        "id": "54uH_x3NfdLo"
      },
      "source": [
        "## 🥑 Python: Division\n",
        "\n"
      ]
    },
    {
      "cell_type": "markdown",
      "metadata": {
        "id": "l1gMjo99gf1v"
      },
      "source": [
        "**Task**\n",
        "\n",
        "The provided code stub reads two integers, ***a*** and ***b***, from STDIN.\n",
        "\n",
        "Add logic to print two lines. The first line should contain the result of integer division,***a//b*** . The second line should contain the result of float division,  ***a/b*** .\n",
        "\n",
        "No rounding or formatting is necessary.\n",
        "\n",
        "**Example**\n",
        "\n",
        "$a = 3$\n",
        "\n",
        "$b = 5$\n",
        "\n",
        "The result of the integer division $3//5=0$.\n",
        "\n",
        "The result of the float division is $3/5=0.6$.\n",
        "\n",
        "**Print:**\n",
        "\n",
        "```\n",
        "0\n",
        "0.6\n",
        "```\n",
        "**Input Format**\n",
        "\n",
        "The first line contains the first integer, ***a***.\n",
        "\n",
        "The second line contains the second integer, ***b***.\n",
        "\n",
        "**Output Format**\n",
        "\n",
        "Print the two lines as described above.\n",
        "\n",
        "**Sample Input 0**\n",
        "\n",
        "```\n",
        "4\n",
        "3\n",
        "```\n",
        "\n",
        "\n",
        "**Sample Output 0**\n",
        "```\n",
        "1\n",
        "1.33333333333\n",
        "```"
      ]
    },
    {
      "cell_type": "code",
      "execution_count": 4,
      "metadata": {
        "colab": {
          "base_uri": "https://localhost:8080/"
        },
        "id": "o-8T3WK-hQPS",
        "outputId": "2e1ca810-3208-4759-d468-fb3769b83c7e"
      },
      "outputs": [
        {
          "output_type": "stream",
          "name": "stdout",
          "text": [
            "4\n",
            "3\n",
            "1\n",
            "1.3333333333333333\n"
          ]
        }
      ],
      "source": [
        "a = int(input())\n",
        "b = int(input())\n",
        "print (a//b)\n",
        "print (a/b)"
      ]
    },
    {
      "cell_type": "markdown",
      "metadata": {
        "id": "9Lhp04UYhoGg"
      },
      "source": [
        "## 🥑 Loops"
      ]
    },
    {
      "cell_type": "markdown",
      "metadata": {
        "id": "_oggb8qBhrIA"
      },
      "source": [
        "**Task**\n",
        "\n",
        "The provided code stub reads and integer, $n$, from STDIN. For all non-negative integers $i< n$, print $i^2$ .\n",
        "\n",
        "**Example**\n",
        "\n",
        "$n=3$\n",
        "\n",
        "The list of non-negative integers that are less than $n=3$ is $[0,1,2]$. Print the square of each number on a separate line.\n",
        "```\n",
        "0\n",
        "1\n",
        "4\n",
        "```\n",
        "**Input Format**\n",
        "\n",
        "The first and only line contains the integer, $n$.\n",
        "\n",
        "**Constraints**\n",
        "\n",
        "$1<=n<=20$\n",
        "\n",
        "**Output Format**\n",
        "\n",
        "Print $n$ lines, one corresponding to each $i$.\n",
        "\n",
        "**Sample Input 0**\n",
        "```\n",
        "5\n",
        "```\n",
        "**Sample Output 0**\n",
        "```\n",
        "0\n",
        "1\n",
        "4\n",
        "9\n",
        "16\n",
        "```\n",
        "\n"
      ]
    },
    {
      "cell_type": "code",
      "execution_count": 5,
      "metadata": {
        "colab": {
          "base_uri": "https://localhost:8080/"
        },
        "id": "M9gVu1TjjLES",
        "outputId": "71b524da-428b-4f09-b1a4-6923659cab6e"
      },
      "outputs": [
        {
          "output_type": "stream",
          "name": "stdout",
          "text": [
            "5\n",
            "0\n",
            "1\n",
            "4\n",
            "9\n",
            "16\n"
          ]
        }
      ],
      "source": [
        "n = int(input())\n",
        "for i in range(n):\n",
        "    print (pow(i,2))"
      ]
    },
    {
      "cell_type": "markdown",
      "metadata": {
        "id": "ftdZGpH2k6Wg"
      },
      "source": [
        "## 🥑 Print Function\n",
        "\n"
      ]
    },
    {
      "cell_type": "markdown",
      "metadata": {
        "id": "moTWRHGTk8ko"
      },
      "source": [
        "The included code stub will read an integer,$n$ , from STDIN.\n",
        "\n",
        "Without using any string methods, try to print the following:\n",
        "\n",
        "$123...n$\n",
        "\n",
        "Note that \"....\" represents the consecutive values in between.\n",
        "\n",
        "**Example**\n",
        "\n",
        "$n = 5$\n",
        "\n",
        "Print the string $12345$.\n",
        "\n",
        "**Input Format**\n",
        "\n",
        "The first line contains an integer $n$.\n",
        "\n",
        "**Constraints**\n",
        "\n",
        "$1<=n<=150$\n",
        "\n",
        "**Output Format**\n",
        "\n",
        "Print the list of integers from $1$ through $n$ as a string, without spaces.\n",
        "\n",
        "**Sample Input 0**\n",
        "```\n",
        "3\n",
        "```\n",
        "**Sample Output 0**\n",
        "```\n",
        "123\n",
        "```\n",
        "\n"
      ]
    },
    {
      "cell_type": "code",
      "execution_count": 6,
      "metadata": {
        "colab": {
          "base_uri": "https://localhost:8080/"
        },
        "id": "EMLL-dyNloVb",
        "outputId": "66492c0b-6e19-4b84-9994-ad571ebf0c80"
      },
      "outputs": [
        {
          "output_type": "stream",
          "name": "stdout",
          "text": [
            "3\n",
            "123"
          ]
        }
      ],
      "source": [
        "n = int(input())\n",
        "for i in range(1, n+1):\n",
        "    print(i, end=\"\")"
      ]
    },
    {
      "cell_type": "markdown",
      "metadata": {
        "id": "BDl8_k0CnNTR"
      },
      "source": [
        "## 🥑 Write a function"
      ]
    },
    {
      "cell_type": "markdown",
      "metadata": {
        "id": "cQjMQtmDnQsm"
      },
      "source": [
        "An extra day is added to the calendar almost every four years as February 29, and the day is called a leap day. It corrects the calendar for the fact that our planet takes approximately 365.25 days to orbit the sun. A leap year contains a leap day.\n",
        "\n",
        "In the Gregorian calendar, three conditions are used to identify leap years:\n",
        "\n",
        "\n",
        "*   The year can be evenly divided by 4, is a leap year, unless:\n",
        "  *   The year can be evenly divided by 100, it is NOT a leap year, unless:\n",
        "\n",
        "      *   The year is also evenly divisible by 400. Then it is a leap year.\n",
        "\n",
        "This means that in the Gregorian calendar, the years 2000 and 2400 are leap years, while 1800, 1900, 2100, 2200, 2300 and 2500 are NOT leap years. [Source](https://www.timeanddate.com/date/leapyear.html)\n",
        "\n",
        "**Task**\n",
        "\n",
        "Given a year, determine whether it is a leap year. If it is a leap year, return the Boolean `True`, otherwise return `False`.\n",
        "\n",
        "Note that the code stub provided reads from STDIN and passes arguments to the `is_leap` function. It is only necessary to complete the `is_leap` function.\n",
        "\n",
        "**Input Format**\n",
        "\n",
        "Read $year$, the year to test.\n",
        "\n",
        "**Constraints**\n",
        "\n",
        "$1990<=year<=10^5$\n",
        "\n",
        "**Output Format**\n",
        "\n",
        "The function must return a Boolean value (True/False). Output is handled by the provided code stub.\n",
        "\n",
        "**Sample Input 0**\n",
        "```\n",
        "1990\n",
        "```\n",
        "**Sample Output 0**\n",
        "```\n",
        "False\n",
        "```\n",
        "**Explanation 0**\n",
        "\n",
        "1990 is not a multiple of 4 hence it's not a leap year."
      ]
    },
    {
      "cell_type": "code",
      "execution_count": 7,
      "metadata": {
        "colab": {
          "base_uri": "https://localhost:8080/"
        },
        "id": "l-x7yhlloi4K",
        "outputId": "64895991-c76c-4968-bf71-c87891ed1037"
      },
      "outputs": [
        {
          "output_type": "stream",
          "name": "stdout",
          "text": [
            "1990\n",
            "False\n"
          ]
        }
      ],
      "source": [
        "#method 1\n",
        "import calendar\n",
        "\n",
        "def is_leap(year):\n",
        "    return calendar.isleap(year)\n",
        "\n",
        "year = int(input())\n",
        "print(is_leap(year))"
      ]
    },
    {
      "cell_type": "code",
      "execution_count": 8,
      "metadata": {
        "colab": {
          "base_uri": "https://localhost:8080/"
        },
        "id": "gIFiOj7Dq2yk",
        "outputId": "9867437b-878e-4aae-d16e-99de5ca5747a"
      },
      "outputs": [
        {
          "output_type": "stream",
          "name": "stdout",
          "text": [
            "1990\n",
            "False\n"
          ]
        }
      ],
      "source": [
        "#method 2\n",
        "def is_leap(year):\n",
        "    leap = False;\n",
        "    if year%4 == 0:\n",
        "        if year%400 == 0:\n",
        "            leap = true;\n",
        "        elif year%100 == 0:\n",
        "            leap =  false;\n",
        "    return leap\n",
        "year = int(input())\n",
        "print(is_leap(year))"
      ]
    },
    {
      "cell_type": "markdown",
      "source": [
        "## 🥑 Python If-Else"
      ],
      "metadata": {
        "id": "pKjaDDOL7L2W"
      }
    },
    {
      "cell_type": "markdown",
      "source": [
        "Check [Tutorial](https://colab.research.google.com/drive/1WdN6KhBIDO6KP4SgUk558N6Pe0DDXoGw#scrollTo=uXGx4m997R_O&line=1&uniqifier=1) tab to know how to solve.\n",
        "\n",
        "**Task**\n",
        "\n",
        "Given an integer, n , perform the following conditional actions:\n",
        "\n",
        "* If n is odd, print **Weird**\n",
        "\n",
        "* If n is even and in the inclusive range of 2 to 5, print **Not Weird**\n",
        "\n",
        "* If n is even and in the inclusive range of 6 to 20, print **Weird**\n",
        "\n",
        "* If n is even and greater than 20, print **Not Weird**\n",
        "\n",
        "**Input Format**\n",
        "\n",
        "A single line containing a positive integer, n.\n",
        "\n",
        "**Constraints**\n",
        "\n",
        "1 <= n <= 100\n",
        "\n",
        "**Output Format**\n",
        "\n",
        "Print **Weird** if the number is weird. Otherwise, print **Not Weird**.\n",
        "\n",
        "**Sample Input 0**\n",
        "```\n",
        "3\n",
        "```\n",
        "\n",
        "**Sample Input 0**\n",
        "```\n",
        "Weird\n",
        "```\n",
        "**Explanation 0**\n",
        "\n",
        "n = 3\n",
        "\n",
        "n is odd and odd numbers are weird, so print Weird.\n",
        "\n",
        "**Sample Input 1**\n",
        "```\n",
        "24\n",
        "```\n",
        "**Sample Output 1**\n",
        "```\n",
        "Not Weird\n",
        "```\n",
        "**Explanation 1**\n",
        "\n",
        "n = 24\n",
        "\n",
        "n > 20 and n is even, so it is not weird."
      ],
      "metadata": {
        "id": "uXGx4m997R_O"
      }
    },
    {
      "cell_type": "code",
      "source": [
        "import math\n",
        "import os\n",
        "import random\n",
        "import re\n",
        "import sys\n",
        "\n",
        "n = int(input())\n",
        "\n",
        "\n",
        "if n%2 == 1:\n",
        "    print('Weird')\n",
        "elif n%2 == 0 and 2 <= n <= 5:\n",
        "    print('Not Weird')\n",
        "elif n%2 == 0 and 6 <= n <= 20:\n",
        "    print('Weird')\n",
        "elif n%2 == 0 and n >= 20:\n",
        "    print('Not Weird')\n",
        "else:\n",
        "    print('Not Weird')\n"
      ],
      "metadata": {
        "colab": {
          "base_uri": "https://localhost:8080/"
        },
        "id": "nfvyrmoe9CF_",
        "outputId": "f03465bb-3c1d-4c7a-b3e4-12b44d4aa92a"
      },
      "execution_count": 14,
      "outputs": [
        {
          "output_type": "stream",
          "name": "stdout",
          "text": [
            "24\n",
            "Not Weird\n"
          ]
        }
      ]
    }
  ],
  "metadata": {
    "colab": {
      "collapsed_sections": [
        "TiqWyJFgTmoU",
        "mQWWLfV3YpxP",
        "54uH_x3NfdLo",
        "9Lhp04UYhoGg",
        "ftdZGpH2k6Wg",
        "BDl8_k0CnNTR"
      ],
      "provenance": []
    },
    "kernelspec": {
      "display_name": "Python 3.11.0 64-bit",
      "language": "python",
      "name": "python3"
    },
    "language_info": {
      "codemirror_mode": {
        "name": "ipython",
        "version": 3
      },
      "file_extension": ".py",
      "mimetype": "text/x-python",
      "name": "python",
      "nbconvert_exporter": "python",
      "pygments_lexer": "ipython3",
      "version": "3.11.0"
    },
    "vscode": {
      "interpreter": {
        "hash": "33aed266bad2035cfa8e27a24fccbec085cf25abae7b9968da68415740ec2a30"
      }
    }
  },
  "nbformat": 4,
  "nbformat_minor": 0
}